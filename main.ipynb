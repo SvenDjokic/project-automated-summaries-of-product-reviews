{
 "cells": [
  {
   "cell_type": "code",
   "execution_count": 2,
   "metadata": {},
   "outputs": [
    {
     "name": "stderr",
     "output_type": "stream",
     "text": [
      "[nltk_data] Downloading package punkt to /Users/sven/nltk_data...\n",
      "[nltk_data]   Package punkt is already up-to-date!\n",
      "[nltk_data] Downloading package wordnet to /Users/sven/nltk_data...\n",
      "[nltk_data]   Package wordnet is already up-to-date!\n",
      "[nltk_data] Downloading package stopwords to /Users/sven/nltk_data...\n",
      "[nltk_data]   Package stopwords is already up-to-date!\n"
     ]
    }
   ],
   "source": [
    "# Import libraries\n",
    "\n",
    "import pandas as pd\n",
    "import numpy as np\n",
    "import re\n",
    "import os\n",
    "\n",
    "import nltk\n",
    "from nltk.tokenize import word_tokenize\n",
    "from nltk.corpus import stopwords, wordnet\n",
    "from nltk.stem import WordNetLemmatizer\n",
    "nltk.download('punkt')\n",
    "nltk.download('wordnet')\n",
    "nltk.download('stopwords')\n",
    "\n",
    "from sklearn.feature_extraction.text import TfidfVectorizer, ENGLISH_STOP_WORDS\n",
    "from sklearn.metrics import classification_report, confusion_matrix\n",
    "from sklearn.cluster import KMeans\n",
    "\n",
    "from transformers import AutoModelForCausalLM, AutoTokenizer, pipeline\n",
    "\n",
    "import seaborn as sns\n",
    "import matplotlib.pyplot as plt"
   ]
  },
  {
   "cell_type": "markdown",
   "metadata": {},
   "source": [
    "Part 1: Sentiment Analysis"
   ]
  },
  {
   "cell_type": "code",
   "execution_count": 3,
   "metadata": {},
   "outputs": [
    {
     "name": "stdout",
     "output_type": "stream",
     "text": [
      "                     id             dateAdded           dateUpdated  \\\n",
      "0  AVqVGZNvQMlgsOJE6eUY  2017-03-03T16:56:05Z  2018-10-25T16:36:31Z   \n",
      "1  AVqVGZNvQMlgsOJE6eUY  2017-03-03T16:56:05Z  2018-10-25T16:36:31Z   \n",
      "2  AVqVGZNvQMlgsOJE6eUY  2017-03-03T16:56:05Z  2018-10-25T16:36:31Z   \n",
      "3  AVqVGZNvQMlgsOJE6eUY  2017-03-03T16:56:05Z  2018-10-25T16:36:31Z   \n",
      "4  AVqVGZNvQMlgsOJE6eUY  2017-03-03T16:56:05Z  2018-10-25T16:36:31Z   \n",
      "\n",
      "                                                name       asins   brand  \\\n",
      "0  Amazon Kindle E-Reader 6\" Wifi (8th Generation...  B00ZV9PXP2  Amazon   \n",
      "1  Amazon Kindle E-Reader 6\" Wifi (8th Generation...  B00ZV9PXP2  Amazon   \n",
      "2  Amazon Kindle E-Reader 6\" Wifi (8th Generation...  B00ZV9PXP2  Amazon   \n",
      "3  Amazon Kindle E-Reader 6\" Wifi (8th Generation...  B00ZV9PXP2  Amazon   \n",
      "4  Amazon Kindle E-Reader 6\" Wifi (8th Generation...  B00ZV9PXP2  Amazon   \n",
      "\n",
      "                                          categories primaryCategories  \\\n",
      "0  Computers,Electronics Features,Tablets,Electro...       Electronics   \n",
      "1  Computers,Electronics Features,Tablets,Electro...       Electronics   \n",
      "2  Computers,Electronics Features,Tablets,Electro...       Electronics   \n",
      "3  Computers,Electronics Features,Tablets,Electro...       Electronics   \n",
      "4  Computers,Electronics Features,Tablets,Electro...       Electronics   \n",
      "\n",
      "                                           imageURLs  \\\n",
      "0  https://pisces.bbystatic.com/image2/BestBuy_US...   \n",
      "1  https://pisces.bbystatic.com/image2/BestBuy_US...   \n",
      "2  https://pisces.bbystatic.com/image2/BestBuy_US...   \n",
      "3  https://pisces.bbystatic.com/image2/BestBuy_US...   \n",
      "4  https://pisces.bbystatic.com/image2/BestBuy_US...   \n",
      "\n",
      "                                                keys  ...  \\\n",
      "0  allnewkindleereaderblack6glarefreetouchscreend...  ...   \n",
      "1  allnewkindleereaderblack6glarefreetouchscreend...  ...   \n",
      "2  allnewkindleereaderblack6glarefreetouchscreend...  ...   \n",
      "3  allnewkindleereaderblack6glarefreetouchscreend...  ...   \n",
      "4  allnewkindleereaderblack6glarefreetouchscreend...  ...   \n",
      "\n",
      "                                    reviews.dateSeen reviews.doRecommend  \\\n",
      "0  2018-05-27T00:00:00Z,2017-09-18T00:00:00Z,2017...               False   \n",
      "1  2018-05-27T00:00:00Z,2017-07-07T00:00:00Z,2017...                True   \n",
      "2                               2018-05-27T00:00:00Z                True   \n",
      "3                               2018-10-09T00:00:00Z                True   \n",
      "4                               2018-05-27T00:00:00Z                True   \n",
      "\n",
      "    reviews.id reviews.numHelpful reviews.rating  \\\n",
      "0          NaN                  0              3   \n",
      "1          NaN                  0              5   \n",
      "2          NaN                  0              4   \n",
      "3  177283626.0                  3              5   \n",
      "4          NaN                  0              5   \n",
      "\n",
      "                                  reviews.sourceURLs  \\\n",
      "0  http://reviews.bestbuy.com/3545/5442403/review...   \n",
      "1  http://reviews.bestbuy.com/3545/5442403/review...   \n",
      "2  https://reviews.bestbuy.com/3545/5442403/revie...   \n",
      "3  https://redsky.target.com/groot-domain-api/v1/...   \n",
      "4  https://reviews.bestbuy.com/3545/5442403/revie...   \n",
      "\n",
      "                                        reviews.text  \\\n",
      "0  I thought it would be as big as small paper bu...   \n",
      "1  This kindle is light and easy to use especiall...   \n",
      "2  Didnt know how much i'd use a kindle so went f...   \n",
      "3  I am 100 happy with my purchase. I caught it o...   \n",
      "4  Solid entry level Kindle. Great for kids. Gift...   \n",
      "\n",
      "                                  reviews.title  reviews.username  \\\n",
      "0                                     Too small            llyyue   \n",
      "1  Great light reader. Easy to use at the beach            Charmi   \n",
      "2                           Great for the price      johnnyjojojo   \n",
      "3                                   A Great Buy           Kdperry   \n",
      "4      Solid entry-level Kindle. Great for kids       Johnnyblack   \n",
      "\n",
      "                                          sourceURLs  \n",
      "0  https://www.newegg.com/Product/Product.aspx%25...  \n",
      "1  https://www.newegg.com/Product/Product.aspx%25...  \n",
      "2  https://www.newegg.com/Product/Product.aspx%25...  \n",
      "3  https://www.newegg.com/Product/Product.aspx%25...  \n",
      "4  https://www.newegg.com/Product/Product.aspx%25...  \n",
      "\n",
      "[5 rows x 24 columns]\n"
     ]
    }
   ],
   "source": [
    "# Load the dataset\n",
    "\n",
    "# Path to the specific CSV file\n",
    "file_path = \"archive/Datafiniti_Amazon_Consumer_Reviews_of_Amazon_Products.csv\"\n",
    "\n",
    "# Load the CSV into a DataFrame\n",
    "df = pd.read_csv(file_path)\n",
    "\n",
    "# Display the first few rows of the DataFrame\n",
    "print(df.head())"
   ]
  },
  {
   "cell_type": "code",
   "execution_count": 6,
   "metadata": {},
   "outputs": [
    {
     "name": "stdout",
     "output_type": "stream",
     "text": [
      "<class 'pandas.core.frame.DataFrame'>\n",
      "RangeIndex: 5000 entries, 0 to 4999\n",
      "Data columns (total 24 columns):\n",
      " #   Column               Non-Null Count  Dtype  \n",
      "---  ------               --------------  -----  \n",
      " 0   id                   5000 non-null   object \n",
      " 1   dateAdded            5000 non-null   object \n",
      " 2   dateUpdated          5000 non-null   object \n",
      " 3   name                 5000 non-null   object \n",
      " 4   asins                5000 non-null   object \n",
      " 5   brand                5000 non-null   object \n",
      " 6   categories           5000 non-null   object \n",
      " 7   primaryCategories    5000 non-null   object \n",
      " 8   imageURLs            5000 non-null   object \n",
      " 9   keys                 5000 non-null   object \n",
      " 10  manufacturer         5000 non-null   object \n",
      " 11  manufacturerNumber   5000 non-null   object \n",
      " 12  reviews.date         5000 non-null   object \n",
      " 13  reviews.dateAdded    1052 non-null   object \n",
      " 14  reviews.dateSeen     5000 non-null   object \n",
      " 15  reviews.doRecommend  5000 non-null   bool   \n",
      " 16  reviews.id           29 non-null     float64\n",
      " 17  reviews.numHelpful   5000 non-null   int64  \n",
      " 18  reviews.rating       5000 non-null   int64  \n",
      " 19  reviews.sourceURLs   5000 non-null   object \n",
      " 20  reviews.text         5000 non-null   object \n",
      " 21  reviews.title        4987 non-null   object \n",
      " 22  reviews.username     4999 non-null   object \n",
      " 23  sourceURLs           5000 non-null   object \n",
      "dtypes: bool(1), float64(1), int64(2), object(20)\n",
      "memory usage: 903.4+ KB\n",
      "None\n"
     ]
    }
   ],
   "source": [
    "# Inspect data\n",
    "\n",
    "print(df.info())\n",
    "\n",
    "# findings: \n",
    "# - there are some features with missing data that we should remove (especially reviews.id)\n",
    "# - other features show data but are likely irrelevant for our sentiment analysis and can also be removed (e.g. reviews.username)"
   ]
  },
  {
   "cell_type": "code",
   "execution_count": 4,
   "metadata": {},
   "outputs": [
    {
     "name": "stdout",
     "output_type": "stream",
     "text": [
      "id                        0\n",
      "dateAdded                 0\n",
      "dateUpdated               0\n",
      "name                      0\n",
      "asins                     0\n",
      "brand                     0\n",
      "categories                0\n",
      "primaryCategories         0\n",
      "imageURLs                 0\n",
      "keys                      0\n",
      "manufacturer              0\n",
      "manufacturerNumber        0\n",
      "reviews.date              0\n",
      "reviews.dateAdded      3948\n",
      "reviews.dateSeen          0\n",
      "reviews.doRecommend       0\n",
      "reviews.id             4971\n",
      "reviews.numHelpful        0\n",
      "reviews.rating            0\n",
      "reviews.sourceURLs        0\n",
      "reviews.text              0\n",
      "reviews.title            13\n",
      "reviews.username          1\n",
      "sourceURLs                0\n",
      "dtype: int64\n"
     ]
    }
   ],
   "source": [
    "# Check sum of NaN values in each column\n",
    "nan_counts = df.isna().sum()\n",
    "\n",
    "print(nan_counts)"
   ]
  },
  {
   "cell_type": "code",
   "execution_count": 8,
   "metadata": {},
   "outputs": [
    {
     "name": "stdout",
     "output_type": "stream",
     "text": [
      "         reviews.id  reviews.numHelpful  reviews.rating\n",
      "count  2.900000e+01         5000.000000     5000.000000\n",
      "mean   1.858740e+08            0.312400        4.596800\n",
      "std    2.084040e+07            3.111582        0.731804\n",
      "min    1.082112e+08            0.000000        1.000000\n",
      "25%    1.851185e+08            0.000000        4.000000\n",
      "50%    1.880757e+08            0.000000        5.000000\n",
      "75%    1.981949e+08            0.000000        5.000000\n",
      "max    2.027812e+08          105.000000        5.000000\n"
     ]
    }
   ],
   "source": [
    "print(df.describe())\n",
    "\n",
    "# findings: \n",
    "# - reviews.rating contains mostly positive ratings\n",
    "# - reviews.numHelpful shows mostly 0 as value but also very high outliers"
   ]
  },
  {
   "cell_type": "code",
   "execution_count": 9,
   "metadata": {},
   "outputs": [
    {
     "name": "stdout",
     "output_type": "stream",
     "text": [
      "[3 5 4 1 2]\n",
      "reviews.rating\n",
      "5    3478\n",
      "4    1208\n",
      "3     197\n",
      "1      63\n",
      "2      54\n",
      "Name: count, dtype: int64\n"
     ]
    }
   ],
   "source": [
    "print(df['reviews.rating'].unique())\n",
    "\n",
    "print(df['reviews.rating'].value_counts())\n"
   ]
  },
  {
   "cell_type": "code",
   "execution_count": 11,
   "metadata": {},
   "outputs": [
    {
     "name": "stdout",
     "output_type": "stream",
     "text": [
      "Index(['id', 'dateAdded', 'dateUpdated', 'name', 'asins', 'brand',\n",
      "       'categories', 'primaryCategories', 'imageURLs', 'keys', 'manufacturer',\n",
      "       'manufacturerNumber', 'reviews.date', 'reviews.dateSeen',\n",
      "       'reviews.doRecommend', 'reviews.numHelpful', 'reviews.rating',\n",
      "       'reviews.sourceURLs', 'reviews.text', 'reviews.title',\n",
      "       'reviews.username', 'sourceURLs'],\n",
      "      dtype='object')\n"
     ]
    }
   ],
   "source": [
    "# Drop columns containing almost only NaNs:\n",
    "\n",
    "df_analysis = df.drop(columns=['reviews.dateAdded','reviews.id'])\n",
    "\n",
    "print(df_analysis.columns)"
   ]
  },
  {
   "cell_type": "code",
   "execution_count": 14,
   "metadata": {},
   "outputs": [],
   "source": [
    "# Replacing NaN values in 'reviews.title' and 'reviews.username' with \"unknown\"\n",
    "\n",
    "df_analysis['reviews.title'] = df_analysis['reviews.title'].fillna('unknown')\n",
    "df_analysis['reviews.username'] = df_analysis['reviews.username'].fillna('unknown')"
   ]
  },
  {
   "cell_type": "code",
   "execution_count": 16,
   "metadata": {},
   "outputs": [
    {
     "name": "stdout",
     "output_type": "stream",
     "text": [
      "                                  reviews.title  \\\n",
      "0                                     Too small   \n",
      "1  Great light reader. Easy to use at the beach   \n",
      "2                           Great for the price   \n",
      "3                                   A Great Buy   \n",
      "4      Solid entry-level Kindle. Great for kids   \n",
      "\n",
      "                                        reviews.text  \\\n",
      "0  I thought it would be as big as small paper bu...   \n",
      "1  This kindle is light and easy to use especiall...   \n",
      "2  Didnt know how much i'd use a kindle so went f...   \n",
      "3  I am 100 happy with my purchase. I caught it o...   \n",
      "4  Solid entry level Kindle. Great for kids. Gift...   \n",
      "\n",
      "                                   reviews_full_text  \n",
      "0  Too small I thought it would be as big as smal...  \n",
      "1  Great light reader. Easy to use at the beach T...  \n",
      "2  Great for the price Didnt know how much i'd us...  \n",
      "3  A Great Buy I am 100 happy with my purchase. I...  \n",
      "4  Solid entry-level Kindle. Great for kids Solid...  \n"
     ]
    }
   ],
   "source": [
    "# Concatenate 'reviews.text' and 'reviews.title' into a new column 'reviews_full_text'\n",
    "df_analysis['reviews_full_text'] = df_analysis['reviews.title'].fillna('') + ' ' + df_analysis['reviews.text'].fillna('')\n",
    "\n",
    "# Check the first few rows of the updated DataFrame\n",
    "print(df_analysis[['reviews.title', 'reviews.text', 'reviews_full_text']].head())"
   ]
  },
  {
   "cell_type": "code",
   "execution_count": 17,
   "metadata": {},
   "outputs": [],
   "source": [
    "# Get the list of stopwords in English\n",
    "stop_words = set(stopwords.words('english'))\n",
    "\n",
    "# Apply tokenization first and then remove stopwords\n",
    "df_analysis['tokens'] = df_analysis['reviews_full_text'].apply(word_tokenize)\n",
    "\n",
    "# Remove stopwords from the tokens\n",
    "df_analysis['tokens'] = df_analysis['tokens'].apply(lambda tokens: [word for word in tokens if word.lower() not in stop_words])\n",
    "\n",
    "# Lowercase all tokens\n",
    "df_analysis['tokens'] = df_analysis['tokens'].apply(lambda tokens: [word.lower() for word in tokens])"
   ]
  },
  {
   "cell_type": "code",
   "execution_count": 18,
   "metadata": {},
   "outputs": [
    {
     "data": {
      "text/html": [
       "<div>\n",
       "<style scoped>\n",
       "    .dataframe tbody tr th:only-of-type {\n",
       "        vertical-align: middle;\n",
       "    }\n",
       "\n",
       "    .dataframe tbody tr th {\n",
       "        vertical-align: top;\n",
       "    }\n",
       "\n",
       "    .dataframe thead th {\n",
       "        text-align: right;\n",
       "    }\n",
       "</style>\n",
       "<table border=\"1\" class=\"dataframe\">\n",
       "  <thead>\n",
       "    <tr style=\"text-align: right;\">\n",
       "      <th></th>\n",
       "      <th>tokens</th>\n",
       "      <th>tokens_lemmatized</th>\n",
       "      <th>lemmatized_text</th>\n",
       "    </tr>\n",
       "  </thead>\n",
       "  <tbody>\n",
       "    <tr>\n",
       "      <th>0</th>\n",
       "      <td>[small, thought, would, big, small, paper, tur...</td>\n",
       "      <td>[small, thought, would, big, small, paper, tur...</td>\n",
       "      <td>small thought would big small paper turn like ...</td>\n",
       "    </tr>\n",
       "    <tr>\n",
       "      <th>1</th>\n",
       "      <td>[great, light, reader, ., easy, use, beach, ki...</td>\n",
       "      <td>[great, light, reader, ., easy, use, beach, ki...</td>\n",
       "      <td>great light reader . easy use beach kindle lig...</td>\n",
       "    </tr>\n",
       "    <tr>\n",
       "      <th>2</th>\n",
       "      <td>[great, price, didnt, know, much, 'd, use, kin...</td>\n",
       "      <td>[great, price, didnt, know, much, 'd, use, kin...</td>\n",
       "      <td>great price didnt know much 'd use kindle go l...</td>\n",
       "    </tr>\n",
       "    <tr>\n",
       "      <th>3</th>\n",
       "      <td>[great, buy, 100, happy, purchase, ., caught, ...</td>\n",
       "      <td>[great, buy, 100, happy, purchase, ., catch, s...</td>\n",
       "      <td>great buy 100 happy purchase . catch sale real...</td>\n",
       "    </tr>\n",
       "    <tr>\n",
       "      <th>4</th>\n",
       "      <td>[solid, entry-level, kindle, ., great, kids, s...</td>\n",
       "      <td>[solid, entry-level, kindle, ., great, kid, so...</td>\n",
       "      <td>solid entry-level kindle . great kid solid ent...</td>\n",
       "    </tr>\n",
       "  </tbody>\n",
       "</table>\n",
       "</div>"
      ],
      "text/plain": [
       "                                              tokens  \\\n",
       "0  [small, thought, would, big, small, paper, tur...   \n",
       "1  [great, light, reader, ., easy, use, beach, ki...   \n",
       "2  [great, price, didnt, know, much, 'd, use, kin...   \n",
       "3  [great, buy, 100, happy, purchase, ., caught, ...   \n",
       "4  [solid, entry-level, kindle, ., great, kids, s...   \n",
       "\n",
       "                                   tokens_lemmatized  \\\n",
       "0  [small, thought, would, big, small, paper, tur...   \n",
       "1  [great, light, reader, ., easy, use, beach, ki...   \n",
       "2  [great, price, didnt, know, much, 'd, use, kin...   \n",
       "3  [great, buy, 100, happy, purchase, ., catch, s...   \n",
       "4  [solid, entry-level, kindle, ., great, kid, so...   \n",
       "\n",
       "                                     lemmatized_text  \n",
       "0  small thought would big small paper turn like ...  \n",
       "1  great light reader . easy use beach kindle lig...  \n",
       "2  great price didnt know much 'd use kindle go l...  \n",
       "3  great buy 100 happy purchase . catch sale real...  \n",
       "4  solid entry-level kindle . great kid solid ent...  "
      ]
     },
     "execution_count": 18,
     "metadata": {},
     "output_type": "execute_result"
    }
   ],
   "source": [
    "# Initialize lemmatizer\n",
    "lemmatizer = WordNetLemmatizer()\n",
    "\n",
    "# Function to convert word to its part of speech (POS) for better lemmatization\n",
    "def get_wordnet_pos(treebank_tag):\n",
    "    if treebank_tag.startswith('V'):\n",
    "        return wordnet.VERB\n",
    "    elif treebank_tag.startswith('N'):\n",
    "        return wordnet.NOUN\n",
    "    elif treebank_tag.startswith('R'):\n",
    "        return wordnet.ADV\n",
    "    else:\n",
    "        return wordnet.NOUN  # Default to noun if POS is unknown\n",
    "\n",
    "# Apply lemmatization to each token (you need to have POS tags as input for more accurate lemmatization)\n",
    "df_analysis['tokens_lemmatized'] = df_analysis['tokens'].apply(lambda tokens: [\n",
    "    lemmatizer.lemmatize(word, get_wordnet_pos(pos)) for word, pos in nltk.pos_tag(tokens)\n",
    "])\n",
    "\n",
    "# Join tokens back into text for further processing\n",
    "df_analysis['lemmatized_text'] = df_analysis['tokens_lemmatized'].apply(lambda tokens: ' '.join(tokens))\n",
    "\n",
    "# Preview the results\n",
    "df_analysis[['tokens', 'tokens_lemmatized', 'lemmatized_text']].head()"
   ]
  },
  {
   "cell_type": "code",
   "execution_count": 19,
   "metadata": {},
   "outputs": [
    {
     "name": "stdout",
     "output_type": "stream",
     "text": [
      "    00   10  10 year       100  100 use   11  11 2016  11yr  11yr old   12  \\\n",
      "0  0.0  0.0      0.0  0.000000      0.0  0.0      0.0   0.0       0.0  0.0   \n",
      "1  0.0  0.0      0.0  0.000000      0.0  0.0      0.0   0.0       0.0  0.0   \n",
      "2  0.0  0.0      0.0  0.000000      0.0  0.0      0.0   0.0       0.0  0.0   \n",
      "3  0.0  0.0      0.0  0.124517      0.0  0.0      0.0   0.0       0.0  0.0   \n",
      "4  0.0  0.0      0.0  0.000000      0.0  0.0      0.0   0.0       0.0  0.0   \n",
      "\n",
      "   ...  äôs fun  äôs good  äôs great  äôt  äôt know  äôt use  äôt wait  äôve  \\\n",
      "0  ...      0.0       0.0        0.0  0.0       0.0      0.0       0.0   0.0   \n",
      "1  ...      0.0       0.0        0.0  0.0       0.0      0.0       0.0   0.0   \n",
      "2  ...      0.0       0.0        0.0  0.0       0.0      0.0       0.0   0.0   \n",
      "3  ...      0.0       0.0        0.0  0.0       0.0      0.0       0.0   0.0   \n",
      "4  ...      0.0       0.0        0.0  0.0       0.0      0.0       0.0   0.0   \n",
      "\n",
      "    äù  äúalexa  \n",
      "0  0.0      0.0  \n",
      "1  0.0      0.0  \n",
      "2  0.0      0.0  \n",
      "3  0.0      0.0  \n",
      "4  0.0      0.0  \n",
      "\n",
      "[5 rows x 5000 columns]\n"
     ]
    }
   ],
   "source": [
    "# Vectorizing the tokenized text\n",
    "\n",
    "# Initialize the TF-IDF Vectorizer\n",
    "tfidf = TfidfVectorizer(\n",
    "    max_features=5000,  # Use the top 5000 words by importance\n",
    "    stop_words='english',  # Remove common English stopwords\n",
    "    ngram_range=(1, 2)  # Consider unigrams and bigrams\n",
    ")\n",
    "\n",
    "# Fit and transform the lemmatized text\n",
    "tfidf_matrix = tfidf.fit_transform(df_analysis['lemmatized_text'])\n",
    "\n",
    "# Convert the TF-IDF matrix to a dataframe for better interpretability\n",
    "tfidf_df = pd.DataFrame(\n",
    "    tfidf_matrix.toarray(), \n",
    "    columns=tfidf.get_feature_names_out()\n",
    ")\n",
    "\n",
    "# Display the TF-IDF dataframe (optional, to inspect the results)\n",
    "print(tfidf_df.head())"
   ]
  },
  {
   "cell_type": "code",
   "execution_count": 20,
   "metadata": {},
   "outputs": [
    {
     "name": "stdout",
     "output_type": "stream",
     "text": [
      "Number of rows with all zero values: 0\n",
      "Total number of rows: 5000\n"
     ]
    }
   ],
   "source": [
    "# Check if not all rows in matrix contain only zeros\n",
    "\n",
    "# Count rows where all values are zero\n",
    "zero_rows = (tfidf_df == 0).all(axis=1).sum()\n",
    "print(f\"Number of rows with all zero values: {zero_rows}\")\n",
    "\n",
    "# Check total rows for comparison\n",
    "total_rows = tfidf_df.shape[0]\n",
    "print(f\"Total number of rows: {total_rows}\")"
   ]
  },
  {
   "cell_type": "code",
   "execution_count": 21,
   "metadata": {},
   "outputs": [
    {
     "name": "stderr",
     "output_type": "stream",
     "text": [
      "/opt/anaconda3/lib/python3.12/site-packages/huggingface_hub/file_download.py:795: FutureWarning: `resume_download` is deprecated and will be removed in version 1.0.0. Downloads always resume when possible. If you want to force a new download, use `force_download=True`.\n",
      "  warnings.warn(\n"
     ]
    }
   ],
   "source": [
    "# Initialize the sentiment analysis pipeline with truncation enabled\n",
    "sentiment_pipeline = pipeline(\n",
    "    \"sentiment-analysis\",\n",
    "    model=\"distilbert-base-uncased-finetuned-sst-2-english\",\n",
    "    tokenizer=\"distilbert-base-uncased-finetuned-sst-2-english\",\n",
    "    truncation=True  # Truncates input texts longer than 512 tokens\n",
    ")\n",
    "\n",
    "# Apply the sentiment analysis pipeline to the reviews\n",
    "df_analysis['predicted_sentiment'] = df_analysis['reviews_full_text'].apply(\n",
    "    lambda text: sentiment_pipeline(text)[0]['label']\n",
    ")\n",
    "\n",
    "# Map sentiment labels to numeric values and add to new column\n",
    "df_analysis['predicted_sentiment_numeric'] = df_analysis['predicted_sentiment'].map(\n",
    "    {'POSITIVE': 1, 'NEGATIVE': -1}\n",
    ")"
   ]
  },
  {
   "cell_type": "code",
   "execution_count": 22,
   "metadata": {},
   "outputs": [
    {
     "name": "stdout",
     "output_type": "stream",
     "text": [
      "   reviews.rating  predicted_sentiment_numeric\n",
      "0               3                           -1\n",
      "1               5                            1\n",
      "2               4                            1\n",
      "3               5                           -1\n",
      "4               5                            1\n"
     ]
    }
   ],
   "source": [
    "# Compare predictions with ratings\n",
    "print(df_analysis[['reviews.rating', 'predicted_sentiment_numeric']].head())"
   ]
  },
  {
   "cell_type": "code",
   "execution_count": 23,
   "metadata": {},
   "outputs": [
    {
     "name": "stdout",
     "output_type": "stream",
     "text": [
      "Agreement rate between model and ratings: 88.62%\n"
     ]
    }
   ],
   "source": [
    "# Calculate agreement rate\n",
    "correct_predictions = (\n",
    "    ((df_analysis['reviews.rating'] >= 4) & (df_analysis['predicted_sentiment_numeric'] == 1)) |\n",
    "    ((df_analysis['reviews.rating'] <= 3) & (df_analysis['predicted_sentiment_numeric'] == -1))\n",
    ")\n",
    "accuracy = correct_predictions.mean()\n",
    "print(f\"Agreement rate between model and ratings: {accuracy:.2%}\")\n"
   ]
  },
  {
   "cell_type": "code",
   "execution_count": 24,
   "metadata": {},
   "outputs": [
    {
     "name": "stdout",
     "output_type": "stream",
     "text": [
      "                                                                                                                                                                                                                                                                                                                                         reviews_full_text  \\\n",
      "2281                                                                                                                                                         Just OK I'm a big fan of Amazon and their products, but this tablet is just ok. The build quality is great and the image is very good, but the software is mediocre at best. Worth the price.   \n",
      "986                                                                                                                                             First experience with Alexa I have enjoyed learning about home automation using Echo plus and consumers need to know that this comes with having to buy additional equipment to get the most out of Alexa.   \n",
      "1698                                                                                                                                                                                                                                                      Fun for kids My son is obsessed with his kids kindle!! A must have so they stay off your phone !   \n",
      "4197  Good tablet for the money My 6 yr old daughter got this tablet from Santa for Christmas. So far she loves it, a little too much perhaps.. I only use it to manage her account/permissions and so far haven't had any issues with it.. Software and HW not quite as refined as apple iPad products, but what can you expect at the lower price point.   \n",
      "4861                                                                                                                                                                                                                      First time tablet owner Got for my aunt for her first tablet. It has been user friendly for her, she yours it mostly for reading   \n",
      "4998                                                                                                                                                                                 Very sturdy for a 5 year old I had some thoughts about getting this for a 5 year old, but if you get the screen protector and a case I feel it will last a long time.   \n",
      "3631                                                                                                                                                                                                                                   Great Tablet for Good Price The tablet was a good gift for Christmas. I bought it on black Friday for a cheap price   \n",
      "314                                                                                                                                                                                                                                                                      Its good for different reasons Its great, just needs expanding information on it.   \n",
      "1126                                                                                                                                                                                                                                                                                  Not yet used Purchased the product for a gift. Has not been used yet   \n",
      "4454                                                                                                                                                                                                         Should have bought one long ago! I made this purchase for myself to free up space on my phone. Now I use it for books, movies and a lot more!   \n",
      "\n",
      "      reviews.rating  predicted_sentiment_numeric  \n",
      "2281               3                            1  \n",
      "986                5                           -1  \n",
      "1698               5                           -1  \n",
      "4197               4                           -1  \n",
      "4861               5                           -1  \n",
      "4998               5                           -1  \n",
      "3631               4                           -1  \n",
      "314                4                           -1  \n",
      "1126               5                           -1  \n",
      "4454               5                           -1  \n"
     ]
    }
   ],
   "source": [
    "# Filter out misclassified reviews\n",
    "misclassified_reviews = df_analysis[~correct_predictions]\n",
    "\n",
    "# Set pandas display option to show complete text\n",
    "pd.set_option('display.max_colwidth', None)\n",
    "\n",
    "# Sample 10 misclassified reviews\n",
    "sample_misclassified_reviews = misclassified_reviews.sample(10, random_state=42)\n",
    "\n",
    "# Display the misclassified reviews\n",
    "print(sample_misclassified_reviews[['reviews_full_text', 'reviews.rating', 'predicted_sentiment_numeric']])"
   ]
  },
  {
   "cell_type": "code",
   "execution_count": 26,
   "metadata": {},
   "outputs": [
    {
     "name": "stdout",
     "output_type": "stream",
     "text": [
      "              precision    recall  f1-score   support\n",
      "\n",
      "          -1       0.32      0.74      0.45       314\n",
      "           1       0.98      0.90      0.94      4686\n",
      "\n",
      "    accuracy                           0.89      5000\n",
      "   macro avg       0.65      0.82      0.69      5000\n",
      "weighted avg       0.94      0.89      0.91      5000\n",
      "\n"
     ]
    }
   ],
   "source": [
    "# Calculate performance metrics\n",
    "\n",
    "print(classification_report(df_analysis['reviews.rating'].apply(lambda x: 1 if x >= 4 else -1), \n",
    "                            df_analysis['predicted_sentiment_numeric']))"
   ]
  },
  {
   "cell_type": "code",
   "execution_count": 27,
   "metadata": {},
   "outputs": [
    {
     "data": {
      "image/png": "[encoded data removed]",
      "text/plain": [
       "<Figure size 640x480 with 2 Axes>"
      ]
     },
     "metadata": {},
     "output_type": "display_data"
    }
   ],
   "source": [
    "# Visualize performance of model in confusion matrix\n",
    "\n",
    "cm = confusion_matrix(df_analysis['reviews.rating'].apply(lambda x: 1 if x >= 4 else -1), \n",
    "                      df_analysis['predicted_sentiment_numeric'])\n",
    "sns.heatmap(cm, annot=True, fmt='d', cmap='Blues', xticklabels=['Negative', 'Positive'], \n",
    "            yticklabels=['Negative', 'Positive'])\n",
    "plt.xlabel('Predicted')\n",
    "plt.ylabel('True')\n",
    "plt.show()"
   ]
  },
  {
   "cell_type": "markdown",
   "metadata": {},
   "source": [
    "Step 2: Clustering Products into Meta Categories"
   ]
  },
  {
   "cell_type": "code",
   "execution_count": 29,
   "metadata": {},
   "outputs": [
    {
     "name": "stdout",
     "output_type": "stream",
     "text": [
      "23\n",
      "4\n"
     ]
    }
   ],
   "source": [
    "# Inspect data in 'categories' and 'primaryCategories' columns\n",
    "\n",
    "print(df_analysis['categories'].nunique())\n",
    "print(df_analysis['primaryCategories'].nunique())"
   ]
  },
  {
   "cell_type": "code",
   "execution_count": 31,
   "metadata": {},
   "outputs": [
    {
     "name": "stdout",
     "output_type": "stream",
     "text": [
      "Unique values in 'categories':\n",
      "['Computers,Electronics Features,Tablets,Electronics,iPad & Tablets,Kindle E-readers,iPad Accessories,Used:Tablets,E-Readers,E-Readers & Accessories,Computers/Tablets & Networking,Used:Computers Accessories,iPads Tablets,All Tablets,Tablets & E-readers,Computers & Tablets,Amazon,Tablets & eBook Readers'\n",
      " 'Computers,Amazon Echo,Virtual Assistant Speakers,Audio & Video Components,Electronics Features,Computer Accessories,Home & Tools,See more Amazon Echo Show Smart Assistant - White,Smart Home Automation,Electronics,TVs Entertainment,Speakers,Smart Hub & Kits,Digital Device 3,Consumer Electronics,Wireless Speakers,Home Improvement,Amazon Home,Amazon,Computer Speakers,Voice-Enabled Smart Assistants'\n",
      " 'Amazon Echo,Virtual Assistant Speakers,Electronics Features,Home & Tools,Smart Home Automation,TVs Entertainment,Speakers,Smart Hub & Kits,Digital Device 3,Wireless Speakers,Smart Home,Home Improvement,Voice Assistants,Amazon Home,Amazon'\n",
      " 'Amazon SMP,TV, Video & Home Audio,Electronics,Electronics Deals,TVs Entertainment,Digital Device 4,Tvs & Home Theater,Featured Brands,Video Devices & TV Tuners,Consumer Electronics,TV & Video,Internet & Media Streamers,Streaming Media Players,Fire TV,Streaming Devices,Amazon Devices,Amazon,See more Amazon Fire TV with Alexa Voice Remote Digital...'\n",
      " 'Amazon Echo,Smart Home,Networking,Home & Tools,Home Improvement,Smart Home Automation,Voice Assistants,Amazon Home,Amazon,Smart Hub & Kits,Digital Device 3'\n",
      " 'Computers & Accessories,Tablet & E-Reader Accessories,Amazon Devices & Accessories,Electronics,Power Adapters & Cables,Computers Features,Cell Phone Accessories,Cell Phone Batteries & Power,Digital Device Accessory,Tablet Accessories,Featured Brands,Kindle Fire (2nd Generation) Accessories,Kindle Store,Power Adapters Cables,Electrical,Home,Tablets & E-Readers,Chargers Adapters,Chargers & Adapters,Electronics Features,Fire Tablet Accessories,Amazon Book Reader Accessory,Cell Phones,Amazon Device Accessories,Home Improvement,Fire (5th Generation) Accessories,Amazon Devices,Cables & Chargers'\n",
      " \"Computers,Fire Tablets,Electronics Features,Computer Accessories,Tablets,Top Rated,Amazon Tablets,Electronics,Kids' Tablets,iPad & Tablets,Cases & Bags,Electronics, Tech Toys, Movies, Music,Computers & Tablets\"\n",
      " 'Office,eBook Readers,Electronics Features,Walmart for Business,Tablets,Electronics,Amazon Ereaders,Office Electronics,iPad & Tablets,Kindle E-readers,All Tablets,Amazon Book Reader,Computers & Tablets'\n",
      " 'Fire Tablets,Computers/Tablets & Networking,Tablets,All Tablets,Amazon Tablets,Frys,Computers & Tablets,Tablets & eBook Readers'\n",
      " 'Fire Tablets,Tablets,All Tablets,Amazon Tablets,Computers & Tablets'\n",
      " 'Fire Tablets,Tablets,All Tablets,Amazon Tablets'\n",
      " 'Amazon Echo,Home Theater & Audio,MP3 MP4 Player Accessories,Electronics,Portable Audio,Compact Radios Stereos,Smart Hubs & Wireless Routers,Featured Brands,Smart Home & Connected Living,Home Security,Kindle Store,Electronic Components,Home Automation,Mobile Bluetooth Speakers,Home, Garage & Office,Amazon Tap,Home,Mobile Speakers,TVs & Electronics,Portable Bluetooth Speakers,Bluetooth & Wireless Speakers,Electronics Features,Frys,Speakers,Mobile,Digital Device 3,Smart Home,Home Improvement,Electronics, Tech Toys, Movies, Music,Smart Home & Home Automation Devices,Smart Hubs,MP3 Player Accessories,Home Safety & Security,Voice Assistants,Amazon Home,Alarms & Sensors,Portable Audio & Electronics,Amazon Devices,Audio,Bluetooth Speakers,MP3 Accessories,All Bluetooth & Wireless Speakers'\n",
      " 'eBook Readers,Fire Tablets,Electronics Features,Tablets,Amazon Tablets,College Ipads & Tablets,Electronics,Electronics Deals,College Electronics,Featured Brands,All Tablets,Computers & Tablets,Back To College,Amazon Devices,Tablets & E-Readers'\n",
      " 'eBook Readers,E-Readers & Accessories,Amazon Book Reader,Computers & Tablets,Amazon Ereaders,Kindle E-readers,E-Readers'\n",
      " 'eBook Readers,Electronics Features,Walmart for Business,Tablets,See more Amazon Kindle Voyage (Wi-Fi),Electronics,Office Electronics,iPad & Tablets,Kindle E-readers,E-Readers & Accessories,All Tablets,See more Amazon Kindle Voyage 4GB, Wi-Fi  3G (Unlocked...,Computers & Tablets'\n",
      " 'Electronics,iPad & Tablets,All Tablets,Fire Tablets,Tablets,Computers & Tablets'\n",
      " 'Computers/Tablets & Networking,Tablets & eBook Readers,Computers & Tablets,Tablets,All Tablets'\n",
      " 'Computers & Tablets,E-Readers & Accessories,eBook Readers,Kindle E-readers'\n",
      " 'Tablets,Fire Tablets,Computers & Tablets,All Tablets'\n",
      " 'Kindle E-readers,Electronics Features,Computers & Tablets,E-Readers & Accessories,E-Readers,eBook Readers'\n",
      " 'Fire Tablets,Tablets,Computers/Tablets & Networking,Other Computers & Networking,Computers & Tablets,All Tablets'\n",
      " 'Tablets,Fire Tablets,Electronics,Computers,Computer Components,Hard Drives & Storage,Computers & Tablets,All Tablets'\n",
      " 'Tablets,Fire Tablets,Electronics,iPad & Tablets,Android Tablets,Computers & Tablets,All Tablets']\n",
      "\n",
      "Unique values in 'primaryCategories':\n",
      "['Electronics' 'Electronics,Hardware' 'Office Supplies,Electronics'\n",
      " 'Electronics,Media']\n"
     ]
    }
   ],
   "source": [
    "# Display all unique values in 'categories'\n",
    "print(\"Unique values in 'categories':\")\n",
    "print(df_analysis['categories'].unique())\n",
    "\n",
    "# Display all unique values in 'primaryCategories'\n",
    "print(\"\\nUnique values in 'primaryCategories':\")\n",
    "print(df_analysis['primaryCategories'].unique())"
   ]
  },
  {
   "cell_type": "code",
   "execution_count": 32,
   "metadata": {},
   "outputs": [],
   "source": [
    "# Function to clean text\n",
    "def clean_text(text):\n",
    "    if isinstance(text, str):\n",
    "        text = re.sub(r'[^\\w\\s]', '', text.lower())  # Remove punctuation and lowercase\n",
    "        words = [word for word in text.split() if word not in ENGLISH_STOP_WORDS]  # Remove stopwords\n",
    "        return ' '.join(words)\n",
    "    return ''\n",
    "\n",
    "# Apply cleaning\n",
    "df_analysis['cleaned_categories'] = df_analysis['categories'].apply(clean_text)\n",
    "df_analysis['cleaned_primaryCategories'] = df_analysis['primaryCategories'].apply(clean_text)\n",
    "\n",
    "# Combine columns for clustering\n",
    "df_analysis['combined_categories'] = (\n",
    "    df_analysis['cleaned_categories'] + ' ' + df_analysis['cleaned_primaryCategories']\n",
    ")"
   ]
  },
  {
   "cell_type": "code",
   "execution_count": 34,
   "metadata": {},
   "outputs": [
    {
     "data": {
      "text/plain": [
       "Index(['id', 'dateAdded', 'dateUpdated', 'name', 'asins', 'brand',\n",
       "       'categories', 'primaryCategories', 'imageURLs', 'keys', 'manufacturer',\n",
       "       'manufacturerNumber', 'reviews.date', 'reviews.dateSeen',\n",
       "       'reviews.doRecommend', 'reviews.numHelpful', 'reviews.rating',\n",
       "       'reviews.sourceURLs', 'reviews.text', 'reviews.title',\n",
       "       'reviews.username', 'sourceURLs', 'reviews_full_text', 'tokens',\n",
       "       'tokens_lemmatized', 'lemmatized_text', 'predicted_sentiment',\n",
       "       'predicted_sentiment_numeric', 'cleaned_categories',\n",
       "       'cleaned_primaryCategories', 'combined_categories'],\n",
       "      dtype='object')"
      ]
     },
     "execution_count": 34,
     "metadata": {},
     "output_type": "execute_result"
    }
   ],
   "source": [
    "# Check for new columns in dataframe\n",
    "df_analysis.columns"
   ]
  },
  {
   "cell_type": "code",
   "execution_count": 35,
   "metadata": {},
   "outputs": [],
   "source": [
    "# Tokenize combined text\n",
    "df_analysis['categories_tokenized'] = df_analysis['combined_categories'].apply(lambda x: x.split())"
   ]
  },
  {
   "cell_type": "code",
   "execution_count": 36,
   "metadata": {},
   "outputs": [],
   "source": [
    "lemmatizer = WordNetLemmatizer()\n",
    "\n",
    "def lemmatize_tokens(tokens):\n",
    "    return [lemmatizer.lemmatize(word) for word in tokens]\n",
    "\n",
    "df_analysis['categories_tokenized'] = df_analysis['categories_tokenized'].apply(lemmatize_tokens)\n",
    "\n",
    "# Join tokens back into a single string after lemmatization\n",
    "df_analysis['categories_lemmatized'] = df_analysis['categories_tokenized'].apply(lambda x: ' '.join(x))"
   ]
  },
  {
   "cell_type": "code",
   "execution_count": 37,
   "metadata": {},
   "outputs": [],
   "source": [
    "# Use TF-IDF to vectorize the text of 'combined_categories'\n",
    "\n",
    "vectorizer = TfidfVectorizer(max_features=1000)  # Use top 1000 terms\n",
    "tfidf_matrix_cluster = vectorizer.fit_transform(df_analysis['categories_lemmatized'])"
   ]
  },
  {
   "cell_type": "code",
   "execution_count": 38,
   "metadata": {},
   "outputs": [
    {
     "name": "stderr",
     "output_type": "stream",
     "text": [
      "huggingface/tokenizers: The current process just got forked, after parallelism has already been used. Disabling parallelism to avoid deadlocks...\n",
      "To disable this warning, you can either:\n",
      "\t- Avoid using `tokenizers` before the fork if possible\n",
      "\t- Explicitly set the environment variable TOKENIZERS_PARALLELISM=(true | false)\n"
     ]
    },
    {
     "data": {
      "image/png": "[encoded data removed]",
      "text/plain": [
       "<Figure size 800x500 with 1 Axes>"
      ]
     },
     "metadata": {},
     "output_type": "display_data"
    }
   ],
   "source": [
    "# Use Elbow Method to find optimal number of clusters for k-means\n",
    "\n",
    "distortions = []\n",
    "K = range(4, 12)  \n",
    "for k in K:\n",
    "    kmeans = KMeans(n_clusters=k, random_state=42)\n",
    "    kmeans.fit(tfidf_matrix_cluster)\n",
    "    distortions.append(kmeans.inertia_)\n",
    "\n",
    "# Plot the elbow curve\n",
    "plt.figure(figsize=(8, 5))\n",
    "plt.plot(K, distortions, 'bo-')\n",
    "plt.xlabel('Number of Clusters')\n",
    "plt.ylabel('Distortion')\n",
    "plt.title('Elbow Method for Optimal K')\n",
    "plt.show()\n",
    "\n",
    "# findings: there is no very clear \"elbow\" improvement in the chart. The biggest visible point\n",
    "# of diminishing returns seems to be at 8 clusters."
   ]
  },
  {
   "cell_type": "code",
   "execution_count": 39,
   "metadata": {},
   "outputs": [],
   "source": [
    "optimal_k = 8  \n",
    "kmeans = KMeans(n_clusters=optimal_k, random_state=42)\n",
    "df_analysis['cluster'] = kmeans.fit_predict(tfidf_matrix_cluster)"
   ]
  },
  {
   "cell_type": "code",
   "execution_count": 40,
   "metadata": {},
   "outputs": [
    {
     "name": "stdout",
     "output_type": "stream",
     "text": [
      "Cluster 0 Top Terms: tabletsamazon, tabletscomputers, tabletstabletsall, tablet, electronics, office, supplieselectronics, featureswalmart, readerselectronics, book\n",
      "Cluster 1 Top Terms: assistant, smart, echovirtual, entertainmentspeakerssmart, electronicshardware, kitsdigital, homeamazoncomputer, componentselectronics, speakersaudio, speakersvoiceenabled\n",
      "Cluster 2 Top Terms: echosmart, automationvoice, improvementsmart, homeamazonsmart, toolshome, homenetworkinghome, assistantsamazon, electronicshardware, kitsdigital, hub\n",
      "Cluster 3 Top Terms: tabletsfire, tabletsall, tabletstabletscomputers, electronicsipad, tablet, electronics, tabletscomputers, tabletsandroid, tabletselectronicsipad, connected\n",
      "Cluster 4 Top Terms: musiccomputers, tabletscases, tabletselectronicskids, tabletsipad, computersfire, accessoriestabletstop, bagselectronics, ratedamazon, tabletselectronics, toy\n",
      "Cluster 5 Top Terms: wireless, bluetooth, player, home, garage, radio, audiomp3, automation, automationmobile, storeelectronic\n",
      "Cluster 6 Top Terms: tabletstablets, reader, tabletsfryscomputers, networkingtabletsall, tabletscomputerstablets, ebook, tabletsamazon, electronics, computerselectronics, accessoriesusedtabletsereadersereaders\n",
      "Cluster 7 Top Terms: readerscomputers, computerstablets, networkingtablets, tabletstabletsall, ebook, tablet, electronics, computersfire, devicestablets, componentshome\n"
     ]
    }
   ],
   "source": [
    "# Get top terms for each cluster\n",
    "terms = vectorizer.get_feature_names_out()\n",
    "for i in range(optimal_k):\n",
    "    cluster_terms = np.argsort(kmeans.cluster_centers_[i])[::-1][:10]\n",
    "    print(f\"Cluster {i} Top Terms: {', '.join(terms[cluster_terms])}\")"
   ]
  },
  {
   "cell_type": "code",
   "execution_count": 42,
   "metadata": {},
   "outputs": [
    {
     "name": "stdout",
     "output_type": "stream",
     "text": [
      "                                                                                                                                                                                                                                                                     combined_categories  \\\n",
      "0  computerselectronics featurestabletselectronicsipad tabletskindle ereadersipad accessoriesusedtabletsereadersereaders accessoriescomputerstablets networkingusedcomputers accessoriesipads tabletsall tabletstablets ereaderscomputers tabletsamazontablets ebook readers electronics   \n",
      "1  computerselectronics featurestabletselectronicsipad tabletskindle ereadersipad accessoriesusedtabletsereadersereaders accessoriescomputerstablets networkingusedcomputers accessoriesipads tabletsall tabletstablets ereaderscomputers tabletsamazontablets ebook readers electronics   \n",
      "2  computerselectronics featurestabletselectronicsipad tabletskindle ereadersipad accessoriesusedtabletsereadersereaders accessoriescomputerstablets networkingusedcomputers accessoriesipads tabletsall tabletstablets ereaderscomputers tabletsamazontablets ebook readers electronics   \n",
      "3  computerselectronics featurestabletselectronicsipad tabletskindle ereadersipad accessoriesusedtabletsereadersereaders accessoriescomputerstablets networkingusedcomputers accessoriesipads tabletsall tabletstablets ereaderscomputers tabletsamazontablets ebook readers electronics   \n",
      "4  computerselectronics featurestabletselectronicsipad tabletskindle ereadersipad accessoriesusedtabletsereadersereaders accessoriescomputerstablets networkingusedcomputers accessoriesipads tabletsall tabletstablets ereaderscomputers tabletsamazontablets ebook readers electronics   \n",
      "5  computerselectronics featurestabletselectronicsipad tabletskindle ereadersipad accessoriesusedtabletsereadersereaders accessoriescomputerstablets networkingusedcomputers accessoriesipads tabletsall tabletstablets ereaderscomputers tabletsamazontablets ebook readers electronics   \n",
      "6  computerselectronics featurestabletselectronicsipad tabletskindle ereadersipad accessoriesusedtabletsereadersereaders accessoriescomputerstablets networkingusedcomputers accessoriesipads tabletsall tabletstablets ereaderscomputers tabletsamazontablets ebook readers electronics   \n",
      "7  computerselectronics featurestabletselectronicsipad tabletskindle ereadersipad accessoriesusedtabletsereadersereaders accessoriescomputerstablets networkingusedcomputers accessoriesipads tabletsall tabletstablets ereaderscomputers tabletsamazontablets ebook readers electronics   \n",
      "8  computerselectronics featurestabletselectronicsipad tabletskindle ereadersipad accessoriesusedtabletsereadersereaders accessoriescomputerstablets networkingusedcomputers accessoriesipads tabletsall tabletstablets ereaderscomputers tabletsamazontablets ebook readers electronics   \n",
      "9  computerselectronics featurestabletselectronicsipad tabletskindle ereadersipad accessoriesusedtabletsereadersereaders accessoriescomputerstablets networkingusedcomputers accessoriesipads tabletsall tabletstablets ereaderscomputers tabletsamazontablets ebook readers electronics   \n",
      "\n",
      "   cluster                          meta_category  \n",
      "0        6  E-Readers and Digital Content Devices  \n",
      "1        6  E-Readers and Digital Content Devices  \n",
      "2        6  E-Readers and Digital Content Devices  \n",
      "3        6  E-Readers and Digital Content Devices  \n",
      "4        6  E-Readers and Digital Content Devices  \n",
      "5        6  E-Readers and Digital Content Devices  \n",
      "6        6  E-Readers and Digital Content Devices  \n",
      "7        6  E-Readers and Digital Content Devices  \n",
      "8        6  E-Readers and Digital Content Devices  \n",
      "9        6  E-Readers and Digital Content Devices  \n"
     ]
    }
   ],
   "source": [
    "# Define a mapping of cluster numbers to meta names\n",
    "cluster_meta_names = {\n",
    "    0: \"E-Readers and Book-Focused Tablets\",\n",
    "    1: \"Smart Speakers and Assistants\",\n",
    "    2: \"Home Automation and Smart Hubs\",\n",
    "    3: \"General Tablets and Android Devices\",\n",
    "    4: \"Tablet Accessories and Kids' Tablets\",\n",
    "    5: \"Wireless Audio and Radios\",\n",
    "    6: \"E-Readers and Digital Content Devices\",\n",
    "    7: \"Networking and Computing Tablets\"\n",
    "}\n",
    "\n",
    "# Assign meta names to clusters\n",
    "df_analysis['meta_category'] = df_analysis['cluster'].map(cluster_meta_names)\n",
    "\n",
    "# Display some rows to verify the result\n",
    "print(df_analysis[['combined_categories', 'cluster', 'meta_category']].head(10))"
   ]
  },
  {
   "cell_type": "code",
   "execution_count": 43,
   "metadata": {},
   "outputs": [
    {
     "name": "stdout",
     "output_type": "stream",
     "text": [
      "Meta Category: E-Readers and Digital Content Devices\n",
      "['Amazon Kindle E-Reader 6\" Wifi (8th Generation, 2016)', 'Amazon Kindle E-Reader 6\" Wifi (8th Generation, 2016)', 'Amazon Kindle E-Reader 6\" Wifi (8th Generation, 2016)', 'Amazon Kindle E-Reader 6\" Wifi (8th Generation, 2016)', 'Amazon Kindle E-Reader 6\" Wifi (8th Generation, 2016)']\n",
      "--------------------------------------------------\n",
      "Meta Category: Smart Speakers and Assistants\n",
      "['Amazon Echo Show Alexa-enabled Bluetooth Speaker with 7\" Screen', 'Amazon Echo Show Alexa-enabled Bluetooth Speaker with 7\" Screen', 'Amazon Echo Show Alexa-enabled Bluetooth Speaker with 7\" Screen', 'Amazon Echo Show Alexa-enabled Bluetooth Speaker with 7\" Screen', 'Amazon Echo Show Alexa-enabled Bluetooth Speaker with 7\" Screen']\n",
      "--------------------------------------------------\n",
      "Meta Category: E-Readers and Book-Focused Tablets\n",
      "['Amazon Fire TV with 4K Ultra HD and Alexa Voice Remote (Pendant Design) | Streaming Media Player', 'Amazon Fire TV with 4K Ultra HD and Alexa Voice Remote (Pendant Design) | Streaming Media Player', 'Amazon Fire TV with 4K Ultra HD and Alexa Voice Remote (Pendant Design) | Streaming Media Player', 'Amazon Fire TV with 4K Ultra HD and Alexa Voice Remote (Pendant Design) | Streaming Media Player', 'Amazon 9W PowerFast Official OEM USB Charger and Power Adapter for Fire Tablets and Kindle eReaders']\n",
      "--------------------------------------------------\n",
      "Meta Category: Home Automation and Smart Hubs\n",
      "['Amazon - Echo Plus w/ Built-In Hub - Silver', 'Amazon - Echo Plus w/ Built-In Hub - Silver', 'Amazon - Echo Plus w/ Built-In Hub - Silver', 'Amazon - Echo Plus w/ Built-In Hub - Silver', 'Amazon - Echo Plus w/ Built-In Hub - Silver']\n",
      "--------------------------------------------------\n",
      "Meta Category: Tablet Accessories and Kids' Tablets\n",
      "['Fire Kids Edition Tablet, 7 Display, Wi-Fi, 16 GB, Blue Kid-Proof Case', 'Fire Kids Edition Tablet, 7 Display, Wi-Fi, 16 GB, Blue Kid-Proof Case', 'Fire Kids Edition Tablet, 7 Display, Wi-Fi, 16 GB, Blue Kid-Proof Case', 'Fire Kids Edition Tablet, 7 Display, Wi-Fi, 16 GB, Blue Kid-Proof Case', 'Fire Kids Edition Tablet, 7 Display, Wi-Fi, 16 GB, Blue Kid-Proof Case']\n",
      "--------------------------------------------------\n",
      "Meta Category: Wireless Audio and Radios\n",
      "['Amazon Tap - Alexa-Enabled Portable Bluetooth Speaker', 'Amazon Tap - Alexa-Enabled Portable Bluetooth Speaker', 'Amazon Tap - Alexa-Enabled Portable Bluetooth Speaker', 'Amazon Tap - Alexa-Enabled Portable Bluetooth Speaker', 'Amazon Tap - Alexa-Enabled Portable Bluetooth Speaker']\n",
      "--------------------------------------------------\n",
      "Meta Category: General Tablets and Android Devices\n",
      "['All-New Fire HD 8 Tablet, 8\" HD Display, Wi-Fi, 16 GB - Includes Special Offers, Magenta', 'All-New Fire HD 8 Tablet, 8\" HD Display, Wi-Fi, 16 GB - Includes Special Offers, Magenta', 'All-New Fire HD 8 Tablet, 8\" HD Display, Wi-Fi, 16 GB - Includes Special Offers, Magenta', 'All-New Fire HD 8 Tablet, 8\" HD Display, Wi-Fi, 16 GB - Includes Special Offers, Magenta', 'All-New Fire HD 8 Tablet, 8\" HD Display, Wi-Fi, 16 GB - Includes Special Offers, Magenta']\n",
      "--------------------------------------------------\n",
      "Meta Category: Networking and Computing Tablets\n",
      "['Brand New Amazon Kindle Fire 16gb 7\" Ips Display Tablet Wifi 16 Gb Blue', 'Brand New Amazon Kindle Fire 16gb 7\" Ips Display Tablet Wifi 16 Gb Blue', 'Brand New Amazon Kindle Fire 16gb 7\" Ips Display Tablet Wifi 16 Gb Blue', 'Brand New Amazon Kindle Fire 16gb 7\" Ips Display Tablet Wifi 16 Gb Blue', 'Brand New Amazon Kindle Fire 16gb 7\" Ips Display Tablet Wifi 16 Gb Blue']\n",
      "--------------------------------------------------\n"
     ]
    }
   ],
   "source": [
    "# Iterate through each meta category\n",
    "for category in df_analysis['meta_category'].unique():\n",
    "    print(f\"Meta Category: {category}\")\n",
    "    # Filter rows for the current category and sample 5 names\n",
    "    sampled_names = df_analysis[df_analysis['meta_category'] == category]['name'].head(5)\n",
    "    print(sampled_names.to_list())  # Print as a list for easier readability\n",
    "    print(\"-\" * 50)  # Separator for clarity"
   ]
  },
  {
   "cell_type": "markdown",
   "metadata": {},
   "source": [
    "Part 3: Generating summaries of product reviews"
   ]
  },
  {
   "cell_type": "code",
   "execution_count": 44,
   "metadata": {},
   "outputs": [],
   "source": [
    "# Group by product\n",
    "product_summary_simple = df_analysis.groupby(['meta_category', 'name']).agg(\n",
    "    positive_reviews=('predicted_sentiment_numeric', lambda x: (x == 1).sum()),\n",
    "    negative_reviews=('predicted_sentiment_numeric', lambda x: (x == -1).sum())\n",
    ").reset_index()"
   ]
  },
  {
   "cell_type": "code",
   "execution_count": 45,
   "metadata": {},
   "outputs": [
    {
     "name": "stderr",
     "output_type": "stream",
     "text": [
      "/var/folders/t4/gbgxnn9j3sj48qv4ydr2n_100000gn/T/ipykernel_91982/461517791.py:2: DeprecationWarning: DataFrameGroupBy.apply operated on the grouping columns. This behavior is deprecated, and in a future version of pandas the grouping columns will be excluded from the operation. Either pass `include_groups=False` to exclude the groupings or explicitly select the grouping columns after groupby to silence this warning.\n",
      "  top_products = product_summary_simple.groupby('meta_category').apply(\n"
     ]
    }
   ],
   "source": [
    "# Select Top 3 Products in each Meta Category\n",
    "top_products = product_summary_simple.groupby('meta_category').apply(\n",
    "    lambda x: x.nlargest(3, 'positive_reviews')  # Get the top 3 products by positive reviews\n",
    ").reset_index(drop=True)"
   ]
  },
  {
   "cell_type": "code",
   "execution_count": 46,
   "metadata": {},
   "outputs": [
    {
     "name": "stdout",
     "output_type": "stream",
     "text": [
      "                            meta_category  \\\n",
      "0      E-Readers and Book-Focused Tablets   \n",
      "1      E-Readers and Book-Focused Tablets   \n",
      "2      E-Readers and Book-Focused Tablets   \n",
      "3   E-Readers and Digital Content Devices   \n",
      "4   E-Readers and Digital Content Devices   \n",
      "5     General Tablets and Android Devices   \n",
      "6     General Tablets and Android Devices   \n",
      "7     General Tablets and Android Devices   \n",
      "8          Home Automation and Smart Hubs   \n",
      "9        Networking and Computing Tablets   \n",
      "10          Smart Speakers and Assistants   \n",
      "11   Tablet Accessories and Kids' Tablets   \n",
      "12              Wireless Audio and Radios   \n",
      "\n",
      "                                                                                           name  \\\n",
      "0                       Fire Kids Edition Tablet, 7 Display, Wi-Fi, 16 GB, Green Kid-Proof Case   \n",
      "1    Kindle E-reader - White, 6 Glare-Free Touchscreen Display, Wi-Fi - Includes Special Offers   \n",
      "2   Fire HD 10 Tablet, 10.1 HD Display, Wi-Fi, 16 GB - Includes Special Offers, Silver Aluminum   \n",
      "3                         Fire Tablet, 7 Display, Wi-Fi, 16 GB - Includes Special Offers, Black   \n",
      "4                                         Amazon Kindle E-Reader 6\" Wifi (8th Generation, 2016)   \n",
      "5      All-New Fire HD 8 Tablet, 8\" HD Display, Wi-Fi, 16 GB - Includes Special Offers, Magenta   \n",
      "6                      Fire Tablet with Alexa, 7\" Display, 16 GB, Magenta - with Special Offers   \n",
      "7            Fire HD 8 Tablet with Alexa, 8\" HD Display, 32 GB, Tangerine - with Special Offers   \n",
      "8                                                   Amazon - Echo Plus w/ Built-In Hub - Silver   \n",
      "9                       Brand New Amazon Kindle Fire 16gb 7\" Ips Display Tablet Wifi 16 Gb Blue   \n",
      "10                              Amazon Echo Show Alexa-enabled Bluetooth Speaker with 7\" Screen   \n",
      "11                       Fire Kids Edition Tablet, 7 Display, Wi-Fi, 16 GB, Blue Kid-Proof Case   \n",
      "12                                        Amazon Tap - Alexa-Enabled Portable Bluetooth Speaker   \n",
      "\n",
      "    positive_reviews  negative_reviews  positive_reviews_difference  \\\n",
      "0                187                30                            0   \n",
      "1                138                21                           49   \n",
      "2                 87                19                          100   \n",
      "3                314                57                            0   \n",
      "4                 80                16                          234   \n",
      "5                691               106                            0   \n",
      "6                 81                20                          610   \n",
      "7                 41                12                          650   \n",
      "8                526                64                            0   \n",
      "9                381                86                            0   \n",
      "10               756                89                            0   \n",
      "11               488                73                            0   \n",
      "12               184                41                            0   \n",
      "\n",
      "    negative_reviews_difference  \n",
      "0                             0  \n",
      "1                             9  \n",
      "2                            11  \n",
      "3                             0  \n",
      "4                            41  \n",
      "5                             0  \n",
      "6                            86  \n",
      "7                            94  \n",
      "8                             0  \n",
      "9                             0  \n",
      "10                            0  \n",
      "11                            0  \n",
      "12                            0  \n"
     ]
    }
   ],
   "source": [
    "# Compare the Top Products\n",
    "top_products['positive_reviews_difference'] = top_products.groupby('meta_category')['positive_reviews'].transform('max') - top_products['positive_reviews']\n",
    "top_products['negative_reviews_difference'] = top_products.groupby('meta_category')['negative_reviews'].transform('max') - top_products['negative_reviews']\n",
    "\n",
    "# Display the top products with their differences\n",
    "print(top_products[['meta_category', 'name', 'positive_reviews', 'negative_reviews', 'positive_reviews_difference', 'negative_reviews_difference']])"
   ]
  },
  {
   "cell_type": "code",
   "execution_count": 47,
   "metadata": {},
   "outputs": [
    {
     "name": "stdout",
     "output_type": "stream",
     "text": [
      "                           meta_category  \\\n",
      "0     E-Readers and Book-Focused Tablets   \n",
      "1  E-Readers and Digital Content Devices   \n",
      "2    General Tablets and Android Devices   \n",
      "3         Home Automation and Smart Hubs   \n",
      "4       Networking and Computing Tablets   \n",
      "5          Smart Speakers and Assistants   \n",
      "6   Tablet Accessories and Kids' Tablets   \n",
      "7              Wireless Audio and Radios   \n",
      "\n",
      "                                                                                       name  \\\n",
      "0                   Fire Kids Edition Tablet, 7 Display, Wi-Fi, 16 GB, Green Kid-Proof Case   \n",
      "1                     Fire Tablet, 7 Display, Wi-Fi, 16 GB - Includes Special Offers, Black   \n",
      "2  All-New Fire HD 8 Tablet, 8\" HD Display, Wi-Fi, 16 GB - Includes Special Offers, Magenta   \n",
      "3                                               Amazon - Echo Plus w/ Built-In Hub - Silver   \n",
      "4                   Brand New Amazon Kindle Fire 16gb 7\" Ips Display Tablet Wifi 16 Gb Blue   \n",
      "5                           Amazon Echo Show Alexa-enabled Bluetooth Speaker with 7\" Screen   \n",
      "6                    Fire Kids Edition Tablet, 7 Display, Wi-Fi, 16 GB, Blue Kid-Proof Case   \n",
      "7                                     Amazon Tap - Alexa-Enabled Portable Bluetooth Speaker   \n",
      "\n",
      "   positive_reviews  negative_reviews  \n",
      "0               187                30  \n",
      "1               314                57  \n",
      "2               691               106  \n",
      "3               526                64  \n",
      "4               381                86  \n",
      "5               756                89  \n",
      "6               488                73  \n",
      "7               184                41  \n"
     ]
    },
    {
     "name": "stderr",
     "output_type": "stream",
     "text": [
      "/var/folders/t4/gbgxnn9j3sj48qv4ydr2n_100000gn/T/ipykernel_91982/1616299340.py:2: DeprecationWarning: DataFrameGroupBy.apply operated on the grouping columns. This behavior is deprecated, and in a future version of pandas the grouping columns will be excluded from the operation. Either pass `include_groups=False` to exclude the groupings or explicitly select the grouping columns after groupby to silence this warning.\n",
      "  worst_products = product_summary_simple.groupby('meta_category').apply(\n"
     ]
    }
   ],
   "source": [
    "# Find the Worst Product in Each Category\n",
    "worst_products = product_summary_simple.groupby('meta_category').apply(\n",
    "    lambda x: x.nlargest(1, 'negative_reviews')  # Get the product with the most negative reviews\n",
    ").reset_index(drop=True)\n",
    "\n",
    "print(worst_products[['meta_category', 'name', 'positive_reviews', 'negative_reviews']])"
   ]
  },
  {
   "cell_type": "code",
   "execution_count": 54,
   "metadata": {},
   "outputs": [
    {
     "name": "stderr",
     "output_type": "stream",
     "text": [
      "The `load_in_4bit` and `load_in_8bit` arguments are deprecated and will be removed in the future versions. Please, pass a `BitsAndBytesConfig` object in `quantization_config` argument instead.\n",
      "Unused kwargs: ['_load_in_4bit', '_load_in_8bit', 'quant_method']. These kwargs are not used in <class 'transformers.utils.quantization_config.BitsAndBytesConfig'>.\n"
     ]
    },
    {
     "ename": "ImportError",
     "evalue": "Using `bitsandbytes` 8-bit quantization requires Accelerate: `pip install accelerate` and the latest version of bitsandbytes: `pip install -i https://pypi.org/simple/ bitsandbytes`",
     "output_type": "error",
     "traceback": [
      "\u001b[0;31m---------------------------------------------------------------------------\u001b[0m",
      "\u001b[0;31mImportError\u001b[0m                               Traceback (most recent call last)",
      "Cell \u001b[0;32mIn[54], line 8\u001b[0m\n\u001b[1;32m      5\u001b[0m tokenizer \u001b[38;5;241m=\u001b[39m AutoTokenizer\u001b[38;5;241m.\u001b[39mfrom_pretrained(model_name)\n\u001b[1;32m      7\u001b[0m \u001b[38;5;66;03m# Load the 4-bit quantized model\u001b[39;00m\n\u001b[0;32m----> 8\u001b[0m model \u001b[38;5;241m=\u001b[39m AutoModelForCausalLM\u001b[38;5;241m.\u001b[39mfrom_pretrained(\n\u001b[1;32m      9\u001b[0m     model_name, \n\u001b[1;32m     10\u001b[0m     device_map\u001b[38;5;241m=\u001b[39m\u001b[38;5;124m\"\u001b[39m\u001b[38;5;124mauto\u001b[39m\u001b[38;5;124m\"\u001b[39m,  \u001b[38;5;66;03m# Automatically maps the model to available devices\u001b[39;00m\n\u001b[1;32m     11\u001b[0m     trust_remote_code\u001b[38;5;241m=\u001b[39m\u001b[38;5;28;01mTrue\u001b[39;00m,  \u001b[38;5;66;03m# Ensures compatibility with custom model code if needed\u001b[39;00m\n\u001b[1;32m     12\u001b[0m     load_in_4bit\u001b[38;5;241m=\u001b[39m\u001b[38;5;28;01mTrue\u001b[39;00m  \u001b[38;5;66;03m# Indicates that the model is quantized to 4-bit precision\u001b[39;00m\n\u001b[1;32m     13\u001b[0m )\n",
      "File \u001b[0;32m/opt/anaconda3/lib/python3.12/site-packages/transformers/models/auto/auto_factory.py:563\u001b[0m, in \u001b[0;36m_BaseAutoModelClass.from_pretrained\u001b[0;34m(cls, pretrained_model_name_or_path, *model_args, **kwargs)\u001b[0m\n\u001b[1;32m    561\u001b[0m \u001b[38;5;28;01melif\u001b[39;00m \u001b[38;5;28mtype\u001b[39m(config) \u001b[38;5;129;01min\u001b[39;00m \u001b[38;5;28mcls\u001b[39m\u001b[38;5;241m.\u001b[39m_model_mapping\u001b[38;5;241m.\u001b[39mkeys():\n\u001b[1;32m    562\u001b[0m     model_class \u001b[38;5;241m=\u001b[39m _get_model_class(config, \u001b[38;5;28mcls\u001b[39m\u001b[38;5;241m.\u001b[39m_model_mapping)\n\u001b[0;32m--> 563\u001b[0m     \u001b[38;5;28;01mreturn\u001b[39;00m model_class\u001b[38;5;241m.\u001b[39mfrom_pretrained(\n\u001b[1;32m    564\u001b[0m         pretrained_model_name_or_path, \u001b[38;5;241m*\u001b[39mmodel_args, config\u001b[38;5;241m=\u001b[39mconfig, \u001b[38;5;241m*\u001b[39m\u001b[38;5;241m*\u001b[39mhub_kwargs, \u001b[38;5;241m*\u001b[39m\u001b[38;5;241m*\u001b[39mkwargs\n\u001b[1;32m    565\u001b[0m     )\n\u001b[1;32m    566\u001b[0m \u001b[38;5;28;01mraise\u001b[39;00m \u001b[38;5;167;01mValueError\u001b[39;00m(\n\u001b[1;32m    567\u001b[0m     \u001b[38;5;124mf\u001b[39m\u001b[38;5;124m\"\u001b[39m\u001b[38;5;124mUnrecognized configuration class \u001b[39m\u001b[38;5;132;01m{\u001b[39;00mconfig\u001b[38;5;241m.\u001b[39m\u001b[38;5;18m__class__\u001b[39m\u001b[38;5;132;01m}\u001b[39;00m\u001b[38;5;124m for this kind of AutoModel: \u001b[39m\u001b[38;5;132;01m{\u001b[39;00m\u001b[38;5;28mcls\u001b[39m\u001b[38;5;241m.\u001b[39m\u001b[38;5;18m__name__\u001b[39m\u001b[38;5;132;01m}\u001b[39;00m\u001b[38;5;124m.\u001b[39m\u001b[38;5;130;01m\\n\u001b[39;00m\u001b[38;5;124m\"\u001b[39m\n\u001b[1;32m    568\u001b[0m     \u001b[38;5;124mf\u001b[39m\u001b[38;5;124m\"\u001b[39m\u001b[38;5;124mModel type should be one of \u001b[39m\u001b[38;5;132;01m{\u001b[39;00m\u001b[38;5;124m'\u001b[39m\u001b[38;5;124m, \u001b[39m\u001b[38;5;124m'\u001b[39m\u001b[38;5;241m.\u001b[39mjoin(c\u001b[38;5;241m.\u001b[39m\u001b[38;5;18m__name__\u001b[39m\u001b[38;5;250m \u001b[39m\u001b[38;5;28;01mfor\u001b[39;00m\u001b[38;5;250m \u001b[39mc\u001b[38;5;250m \u001b[39m\u001b[38;5;129;01min\u001b[39;00m\u001b[38;5;250m \u001b[39m\u001b[38;5;28mcls\u001b[39m\u001b[38;5;241m.\u001b[39m_model_mapping\u001b[38;5;241m.\u001b[39mkeys())\u001b[38;5;132;01m}\u001b[39;00m\u001b[38;5;124m.\u001b[39m\u001b[38;5;124m\"\u001b[39m\n\u001b[1;32m    569\u001b[0m )\n",
      "File \u001b[0;32m/opt/anaconda3/lib/python3.12/site-packages/transformers/modeling_utils.py:3165\u001b[0m, in \u001b[0;36mPreTrainedModel.from_pretrained\u001b[0;34m(cls, pretrained_model_name_or_path, config, cache_dir, ignore_mismatched_sizes, force_download, local_files_only, token, revision, use_safetensors, *model_args, **kwargs)\u001b[0m\n\u001b[1;32m   3162\u001b[0m     hf_quantizer \u001b[38;5;241m=\u001b[39m \u001b[38;5;28;01mNone\u001b[39;00m\n\u001b[1;32m   3164\u001b[0m \u001b[38;5;28;01mif\u001b[39;00m hf_quantizer \u001b[38;5;129;01mis\u001b[39;00m \u001b[38;5;129;01mnot\u001b[39;00m \u001b[38;5;28;01mNone\u001b[39;00m:\n\u001b[0;32m-> 3165\u001b[0m     hf_quantizer\u001b[38;5;241m.\u001b[39mvalidate_environment(\n\u001b[1;32m   3166\u001b[0m         torch_dtype\u001b[38;5;241m=\u001b[39mtorch_dtype, from_tf\u001b[38;5;241m=\u001b[39mfrom_tf, from_flax\u001b[38;5;241m=\u001b[39mfrom_flax, device_map\u001b[38;5;241m=\u001b[39mdevice_map\n\u001b[1;32m   3167\u001b[0m     )\n\u001b[1;32m   3168\u001b[0m     torch_dtype \u001b[38;5;241m=\u001b[39m hf_quantizer\u001b[38;5;241m.\u001b[39mupdate_torch_dtype(torch_dtype)\n\u001b[1;32m   3169\u001b[0m     device_map \u001b[38;5;241m=\u001b[39m hf_quantizer\u001b[38;5;241m.\u001b[39mupdate_device_map(device_map)\n",
      "File \u001b[0;32m/opt/anaconda3/lib/python3.12/site-packages/transformers/quantizers/quantizer_bnb_4bit.py:62\u001b[0m, in \u001b[0;36mBnb4BitHfQuantizer.validate_environment\u001b[0;34m(self, *args, **kwargs)\u001b[0m\n\u001b[1;32m     60\u001b[0m \u001b[38;5;28;01mdef\u001b[39;00m \u001b[38;5;21mvalidate_environment\u001b[39m(\u001b[38;5;28mself\u001b[39m, \u001b[38;5;241m*\u001b[39margs, \u001b[38;5;241m*\u001b[39m\u001b[38;5;241m*\u001b[39mkwargs):\n\u001b[1;32m     61\u001b[0m     \u001b[38;5;28;01mif\u001b[39;00m \u001b[38;5;129;01mnot\u001b[39;00m (is_accelerate_available() \u001b[38;5;129;01mand\u001b[39;00m is_bitsandbytes_available()):\n\u001b[0;32m---> 62\u001b[0m         \u001b[38;5;28;01mraise\u001b[39;00m \u001b[38;5;167;01mImportError\u001b[39;00m(\n\u001b[1;32m     63\u001b[0m             \u001b[38;5;124m\"\u001b[39m\u001b[38;5;124mUsing `bitsandbytes` 8-bit quantization requires Accelerate: `pip install accelerate` \u001b[39m\u001b[38;5;124m\"\u001b[39m\n\u001b[1;32m     64\u001b[0m             \u001b[38;5;124m\"\u001b[39m\u001b[38;5;124mand the latest version of bitsandbytes: `pip install -i https://pypi.org/simple/ bitsandbytes`\u001b[39m\u001b[38;5;124m\"\u001b[39m\n\u001b[1;32m     65\u001b[0m         )\n\u001b[1;32m     67\u001b[0m     \u001b[38;5;28;01mif\u001b[39;00m kwargs\u001b[38;5;241m.\u001b[39mget(\u001b[38;5;124m\"\u001b[39m\u001b[38;5;124mfrom_tf\u001b[39m\u001b[38;5;124m\"\u001b[39m, \u001b[38;5;28;01mFalse\u001b[39;00m) \u001b[38;5;129;01mor\u001b[39;00m kwargs\u001b[38;5;241m.\u001b[39mget(\u001b[38;5;124m\"\u001b[39m\u001b[38;5;124mfrom_flax\u001b[39m\u001b[38;5;124m\"\u001b[39m, \u001b[38;5;28;01mFalse\u001b[39;00m):\n\u001b[1;32m     68\u001b[0m         \u001b[38;5;28;01mraise\u001b[39;00m \u001b[38;5;167;01mValueError\u001b[39;00m(\n\u001b[1;32m     69\u001b[0m             \u001b[38;5;124m\"\u001b[39m\u001b[38;5;124mConverting into 4-bit or 8-bit weights from tf/flax weights is currently not supported, please make\u001b[39m\u001b[38;5;124m\"\u001b[39m\n\u001b[1;32m     70\u001b[0m             \u001b[38;5;124m\"\u001b[39m\u001b[38;5;124m sure the weights are in PyTorch format.\u001b[39m\u001b[38;5;124m\"\u001b[39m\n\u001b[1;32m     71\u001b[0m         )\n",
      "\u001b[0;31mImportError\u001b[0m: Using `bitsandbytes` 8-bit quantization requires Accelerate: `pip install accelerate` and the latest version of bitsandbytes: `pip install -i https://pypi.org/simple/ bitsandbytes`"
     ]
    }
   ],
   "source": [
    "# Load Mistral-7B model and tokenizer\n",
    "model_name = \"unsloth/mistral-7b-bnb-4bit\"\n",
    "\n",
    "# Load the tokenizer\n",
    "tokenizer = AutoTokenizer.from_pretrained(model_name)\n",
    "\n",
    "# Load the 4-bit quantized model\n",
    "model = AutoModelForCausalLM.from_pretrained(\n",
    "    model_name, \n",
    "    device_map=\"auto\",  # Automatically maps the model to available devices\n",
    "    trust_remote_code=True,  # Ensures compatibility with custom model code if needed\n",
    "    load_in_4bit=True  # Indicates that the model is quantized to 4-bit precision\n",
    ")"
   ]
  },
  {
   "cell_type": "code",
   "execution_count": null,
   "metadata": {},
   "outputs": [],
   "source": [
    "# Create a pipeline for text generation\n",
    "generator = pipeline('text-generation', model=model, tokenizer=tokenizer)\n",
    "\n",
    "# Test the pipeline\n",
    "test_input = \"Tablets have become an essential device for modern users. The most popular features include\"\n",
    "generated_output = generator(test_input, max_length=100, num_return_sequences=1)\n",
    "print(generated_output)"
   ]
  },
  {
   "cell_type": "code",
   "execution_count": null,
   "metadata": {},
   "outputs": [],
   "source": [
    "prompt = '''\n",
    "You are tasked with generating a detailed blog summarizing the top 3 tablets in a given category and the 1 worst tablet in that category. For each tablet, provide:\n",
    "\n",
    "- **Strengths:** A brief description of the tablet's key advantages.\n",
    "- **Weaknesses:** A brief description of the tablet's key disadvantages.\n",
    "\n",
    "Use the following example as a template for structuring your response:\n",
    "\n",
    "**Example:**\n",
    "\n",
    "Category: Tablets for Reading\n",
    "\n",
    "The top 3 tablets in this category:\n",
    "\n",
    "1. **Amazon Kindle Oasis**\n",
    "   - *Strengths:* Offers a high-resolution E Ink display with adjustable warm light, providing a comfortable reading experience in various lighting conditions.\n",
    "   - *Weaknesses:* Priced higher than other e-readers, which may not justify the cost for casual readers.\n",
    "\n",
    "2. **Kobo Clara HD**\n",
    "   - *Strengths:* Features a 6-inch Carta E Ink touchscreen with ComfortLight, allowing for easy reading day or night.\n",
    "   - *Weaknesses:* Limited support for certain eBook formats compared to competitors.\n",
    "\n",
    "3. **Barnes & Noble Nook GlowLight 3**\n",
    "   - *Strengths:* Equipped with a 6-inch E Ink Carta HD display and a comfortable design for extended reading sessions.\n",
    "   - *Weaknesses:* Smaller selection of eBooks compared to other platforms.\n",
    "\n",
    "The worst product in this category:\n",
    "\n",
    "**Amazon Fire HD 8**\n",
    "- *Strengths:* Affordable price point and access to a wide range of Amazon services.\n",
    "- *Weaknesses:* Not primarily designed for reading; the display is not as sharp as dedicated e-readers, and the device is heavier.\n",
    "\n",
    "Blog summary:\n",
    "The \"Tablets\" category offers a range of devices catering to various needs. Leading the pack is the iPad Pro, known for its exceptional performance and stunning display quality, though its high price point may deter some users. The Samsung Galaxy Tab S7 stands out with its versatile S Pen functionality, but the limited app ecosystem can be a drawback. The Microsoft Surface Pro 7 provides a full desktop experience in a tablet form factor, yet its short battery life is a notable downside. On the other hand, the Amazon Fire HD 10 offers an affordable price, but its subpar display and performance make it less appealing.\n",
    "'''"
   ]
  },
  {
   "cell_type": "code",
   "execution_count": null,
   "metadata": {},
   "outputs": [],
   "source": [
    "# Generate response\n",
    "response = generator(prompt, max_length=800, num_return_sequences=1)\n",
    "print(response[0]['generated_text'])"
   ]
  }
 ],
 "metadata": {
  "kernelspec": {
   "display_name": "base",
   "language": "python",
   "name": "python3"
  },
  "language_info": {
   "codemirror_mode": {
    "name": "ipython",
    "version": 3
   },
   "file_extension": ".py",
   "mimetype": "text/x-python",
   "name": "python",
   "nbconvert_exporter": "python",
   "pygments_lexer": "ipython3",
   "version": "3.12.7"
  }
 },
 "nbformat": 4,
 "nbformat_minor": 2
}
